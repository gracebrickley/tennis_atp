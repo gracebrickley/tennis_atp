{
 "cells": [
  {
   "cell_type": "code",
   "execution_count": 2,
   "metadata": {},
   "outputs": [],
   "source": [
    "from pyspark.sql import SparkSession\n",
    "\n",
    "spark = SparkSession \\\n",
    "    .builder \\\n",
    "    .master(\"local\") \\\n",
    "    .appName(\"review_and_category_analytics\") \\\n",
    "    .config(\"spark.executor.memory\", '8g') \\\n",
    "    .config('spark.executor.cores', '4') \\\n",
    "    .config('spark.cores.max', '4') \\\n",
    "    .config(\"spark.driver.memory\",'8g') \\\n",
    "    .getOrCreate()\n",
    "\n",
    "sc = spark.sparkContext"
   ]
  },
  {
   "cell_type": "code",
   "execution_count": 103,
   "metadata": {},
   "outputs": [],
   "source": [
    "data = spark.read.csv('/project/ds5559/group14_tennis/tennis_atp/atp_matches_2012.csv', header = True)\n",
    "data_path = '/project/ds5559/group14_tennis/tennis_atp/'"
   ]
  },
  {
   "cell_type": "code",
   "execution_count": 26,
   "metadata": {},
   "outputs": [
    {
     "data": {
      "text/plain": [
       "\"for dataset in dataframes_list:\\n    dataset.show(5)\\n    print('\\n')\\n\""
      ]
     },
     "execution_count": 26,
     "metadata": {},
     "output_type": "execute_result"
    }
   ],
   "source": [
    "import os\n",
    "\n",
    "# assign path\n",
    "path, dirs, files = next(os.walk(data_path))\n",
    "file_count = len(files)\n",
    "# create empty list\n",
    "dataframes_list = []\n",
    " \n",
    "# append datasets to the list\n",
    "for i in range(file_count):\n",
    "    if '.csv' in files[i]:\n",
    "        temp_df =  spark.read.csv(data_path+files[i])\n",
    "        dataframes_list.append(temp_df)\n",
    "     \n",
    "# display datasets\n",
    "'''for dataset in dataframes_list:\n",
    "    dataset.show(5)\n",
    "    print('\\n')\n",
    "'''"
   ]
  },
  {
   "cell_type": "code",
   "execution_count": 12,
   "metadata": {},
   "outputs": [
    {
     "name": "stdout",
     "output_type": "stream",
     "text": [
      "+--------------------+-----------------+-------+---------+-------------+------------+---------+---------+-----------+------------+-------------------+-----------+---------+----------+-------------+--------+----------+-----------+--------------------+----------+--------+---------+-------------+-----------+-------+-----+-------+-----+----+------+-------+--------+--------+-------+---------+---------+-----+----+------+-------+--------+--------+-------+---------+---------+-----------+------------------+----------+-----------------+\n",
      "|                 _c0|              _c1|    _c2|      _c3|          _c4|         _c5|      _c6|      _c7|        _c8|         _c9|               _c10|       _c11|     _c12|      _c13|         _c14|    _c15|      _c16|       _c17|                _c18|      _c19|    _c20|     _c21|         _c22|       _c23|   _c24| _c25|   _c26| _c27|_c28|  _c29|   _c30|    _c31|    _c32|   _c33|     _c34|     _c35| _c36|_c37|  _c38|   _c39|    _c40|    _c41|   _c42|     _c43|     _c44|       _c45|              _c46|      _c47|             _c48|\n",
      "+--------------------+-----------------+-------+---------+-------------+------------+---------+---------+-----------+------------+-------------------+-----------+---------+----------+-------------+--------+----------+-----------+--------------------+----------+--------+---------+-------------+-----------+-------+-----+-------+-----+----+------+-------+--------+--------+-------+---------+---------+-----+----+------+-------+--------+--------+-------+---------+---------+-----------+------------------+----------+-----------------+\n",
      "|          tourney_id|     tourney_name|surface|draw_size|tourney_level|tourney_date|match_num|winner_id|winner_seed|winner_entry|        winner_name|winner_hand|winner_ht|winner_ioc|   winner_age|loser_id|loser_seed|loser_entry|          loser_name|loser_hand|loser_ht|loser_ioc|    loser_age|      score|best_of|round|minutes|w_ace|w_df|w_svpt|w_1stIn|w_1stWon|w_2ndWon|w_SvGms|w_bpSaved|w_bpFaced|l_ace|l_df|l_svpt|l_1stIn|l_1stWon|l_2ndWon|l_SvGms|l_bpSaved|l_bpFaced|winner_rank|winner_rank_points|loser_rank|loser_rank_points|\n",
      "|1993-M-SA-ITA-01A...|Italy 1 Masters 1| Carpet|       32|            S|    19930102|        1|   101280|          1|        null|    Mikael Stadling|          L|      188|       SWE|26.3846680356|  102437|      null|       null|       Adrian Voinea|         R|     185|      ROU|18.3956194387|7-6 5-7 7-5|      3|  R32|   null| null|null|  null|   null|    null|    null|   null|     null|     null| null|null|  null|   null|    null|    null|   null|     null|     null|        360|              null|       332|             null|\n",
      "|1993-M-SA-ITA-01A...|Italy 1 Masters 1| Carpet|       32|            S|    19930102|        2|   101405|       null|        null|      Ugo Colombini|          R|      183|       ITA|25.2265571526|  101871|      null|       null|   Alexander Reichel|         R|     193|      USA|21.8234086242|4-6 6-4 7-6|      3|  R32|   null| null|null|  null|   null|    null|    null|   null|     null|     null| null|null|  null|   null|    null|    null|   null|     null|     null|        947|              null|       591|             null|\n",
      "|1993-M-SA-ITA-01A...|Italy 1 Masters 1| Carpet|       32|            S|    19930102|        3|   102491|       null|           Q|     Alex Radulescu|          R|      185|       GER|18.0588637919|  102008|      null|          Q|         Johan Alven|         R|    null|      SWE|20.9582477755|6-3 2-6 6-4|      3|  R32|   null| null|null|  null|   null|    null|    null|   null|     null|     null| null|null|  null|   null|    null|    null|   null|     null|     null|        464|              null|       708|             null|\n",
      "|1993-M-SA-ITA-01A...|Italy 1 Masters 1| Carpet|       32|            S|    19930102|        4|   101947|       null|          WC|Vincenzo Santopadre|          L|      183|       ITA|21.3826146475|  102050|         8|       null|Marco Meneschincheri|         L|     180|      ITA|20.6762491444|    6-2 6-0|      3|  R32|   null| null|null|  null|   null|    null|    null|   null|     null|     null| null|null|  null|   null|    null|    null|   null|     null|     null|        422|              null|       416|             null|\n",
      "+--------------------+-----------------+-------+---------+-------------+------------+---------+---------+-----------+------------+-------------------+-----------+---------+----------+-------------+--------+----------+-----------+--------------------+----------+--------+---------+-------------+-----------+-------+-----+-------+-----+----+------+-------+--------+--------+-------+---------+---------+-----+----+------+-------+--------+--------+-------+---------+---------+-----------+------------------+----------+-----------------+\n",
      "only showing top 5 rows\n",
      "\n"
     ]
    }
   ],
   "source": [
    "dataframes_list[5].show(5)"
   ]
  },
  {
   "cell_type": "code",
   "execution_count": 10,
   "metadata": {},
   "outputs": [
    {
     "name": "stdout",
     "output_type": "stream",
     "text": [
      "/sfs/qumulo/qhome/kgb3mf\n"
     ]
    }
   ],
   "source": [
    "!pwd"
   ]
  },
  {
   "cell_type": "code",
   "execution_count": 11,
   "metadata": {},
   "outputs": [
    {
     "name": "stdout",
     "output_type": "stream",
     "text": [
      "+----------+--------------+-------+---------+-------------+------------+---------+----------+----------+-----------+------------+---------+---------+----------+-----------+-------------+-------+-----+-------------------+------------+----------+-----------+-------------+----------------+------------+----------+-----------+-------------+----------------+-----------+---------+----------+-------------+--------------+-----------+---------+----------+-------------+------------+-------------------+------------+-------------------+-----------+------------------+-----------+------------------+-------+-----+----+------+-------+--------+--------+-------+---------+---------+-----+----+------+-------+--------+--------+-------+---------+---------+\n",
      "|       _c0|           _c1|    _c2|      _c3|          _c4|         _c5|      _c6|       _c7|       _c8|        _c9|        _c10|     _c11|     _c12|      _c13|       _c14|         _c15|   _c16| _c17|               _c18|        _c19|      _c20|       _c21|         _c22|            _c23|        _c24|      _c25|       _c26|         _c27|            _c28|       _c29|     _c30|      _c31|         _c32|          _c33|       _c34|     _c35|      _c36|         _c37|        _c38|               _c39|        _c40|               _c41|       _c42|              _c43|       _c44|              _c45|   _c46| _c47|_c48|  _c49|   _c50|    _c51|    _c52|   _c53|     _c54|     _c55| _c56|_c57|  _c58|   _c59|    _c60|    _c61|   _c62|     _c63|     _c64|\n",
      "+----------+--------------+-------+---------+-------------+------------+---------+----------+----------+-----------+------------+---------+---------+----------+-----------+-------------+-------+-----+-------------------+------------+----------+-----------+-------------+----------------+------------+----------+-----------+-------------+----------------+-----------+---------+----------+-------------+--------------+-----------+---------+----------+-------------+------------+-------------------+------------+-------------------+-----------+------------------+-----------+------------------+-------+-----+----+------+-------+--------+--------+-------+---------+---------+-----+----+------+-------+--------+--------+-------+---------+---------+\n",
      "|tourney_id|  tourney_name|surface|draw_size|tourney_level|tourney_date|match_num|winner1_id|winner2_id|winner_seed|winner_entry|loser1_id|loser2_id|loser_seed|loser_entry|        score|best_of|round|       winner1_name|winner1_hand|winner1_ht|winner1_ioc|  winner1_age|    winner2_name|winner2_hand|winner2_ht|winner2_ioc|  winner2_age|     loser1_name|loser1_hand|loser1_ht|loser1_ioc|   loser1_age|   loser2_name|loser2_hand|loser2_ht|loser2_ioc|   loser2_age|winner1_rank|winner1_rank_points|winner2_rank|winner2_rank_points|loser1_rank|loser1_rank_points|loser2_rank|loser2_rank_points|minutes|w_ace|w_df|w_svpt|w_1stIn|w_1stWon|w_2ndWon|w_SvGms|w_bpSaved|w_bpFaced|l_ace|l_df|l_svpt|l_1stIn|l_1stWon|l_2ndWon|l_SvGms|l_bpSaved|l_bpFaced|\n",
      "| 2012-1536|Madrid Masters|   Clay|       56|            M|    20120506|      300|    103586|    103690|          4|        null|   102963|   104486|         6|       null|      6-3 6-4|      3|    F|Mariusz Fyrstenberg|           L|       193|        POL|31.8302532512|Marcin Matkowski|           R|       188|        POL|31.3073237509|Robert Lindstedt|          R|      190|       SWE|35.1348391513|   Horia Tecau|          R|      193|       ROU|27.2963723477|          10|               4815|          10|               4815|          8|              4840|          9|              4840|   null| null|null|  null|   null|    null|    null|   null|     null|     null| null|null|  null|   null|    null|    null|   null|     null|     null|\n",
      "| 2012-1536|Madrid Masters|   Clay|       56|            M|    20120506|      299|    103586|    103690|          4|        null|   103018|   102110|         2|       null|6-7 7-6 12-10|      3|   SF|Mariusz Fyrstenberg|           L|       193|        POL|31.8302532512|Marcin Matkowski|           R|       188|        POL|31.3073237509|      Max Mirnyi|          R|      196|       BLR|34.8364134155| Daniel Nestor|          L|      190|       CAN|39.6714579055|          10|               4815|          10|               4815|          1|              9060|          1|              9060|   null| null|null|  null|   null|    null|    null|   null|     null|     null| null|null|  null|   null|    null|    null|   null|     null|     null|\n",
      "| 2012-1536|Madrid Masters|   Clay|       56|            M|    20120506|      298|    102963|    104486|          6|        null|   102405|   103523|         7|       null| 6-4 1-6 10-7|      3|   SF|   Robert Lindstedt|           R|       190|        SWE|35.1348391513|     Horia Tecau|           R|       193|        ROU|27.2963723477| Mahesh Bhupathi|          R|      185|       IND| 37.916495551| Rohan Bopanna|          R|      190|       IND|32.1752224504|           8|               4840|           9|               4840|         15|              3850|         12|              4340|   null| null|null|  null|   null|    null|    null|   null|     null|     null| null|null|  null|   null|    null|    null|   null|     null|     null|\n",
      "| 2012-1536|Madrid Masters|   Clay|       56|            M|    20120506|      297|    103018|    102110|          2|        null|   102233|   103285|         5|       null| 6-3 6-7 10-2|      3|   QF|         Max Mirnyi|           R|       196|        BLR|34.8364134155|   Daniel Nestor|           L|       190|        CAN|39.6714579055|    Leander Paes|          R|      178|       IND|38.8884325804|Radek Stepanek|          R|      185|       CZE|33.4428473648|           1|               9060|           1|               9060|          7|              6195|         13|              4175|   null| null|null|  null|   null|    null|    null|   null|     null|     null| null|null|  null|   null|    null|    null|   null|     null|     null|\n",
      "+----------+--------------+-------+---------+-------------+------------+---------+----------+----------+-----------+------------+---------+---------+----------+-----------+-------------+-------+-----+-------------------+------------+----------+-----------+-------------+----------------+------------+----------+-----------+-------------+----------------+-----------+---------+----------+-------------+--------------+-----------+---------+----------+-------------+------------+-------------------+------------+-------------------+-----------+------------------+-----------+------------------+-------+-----+----+------+-------+--------+--------+-------+---------+---------+-----+----+------+-------+--------+--------+-------+---------+---------+\n",
      "only showing top 5 rows\n",
      "\n"
     ]
    }
   ],
   "source": [
    "first_dataset = dataframes_list[0]\n",
    "first_dataset.show(5)"
   ]
  },
  {
   "cell_type": "code",
   "execution_count": 17,
   "metadata": {},
   "outputs": [
    {
     "data": {
      "text/plain": [
       "[Row(tourney_id='2012-339', tourney_name='Brisbane', surface='Hard', draw_size='32', tourney_level='A', tourney_date='20120101', match_num='1', winner_id='104918', winner_seed='1', winner_entry=None, winner_name='Andy Murray', winner_hand='R', winner_ht='190', winner_ioc='GBR', winner_age='24.6351813826', loser_id='105062', loser_seed=None, loser_entry=None, loser_name='Mikhail Kukushkin', loser_hand='R', loser_ht='183', loser_ioc='KAZ', loser_age='24.0191649555', score='5-7 6-3 6-2', best_of='3', round='R32', minutes='130', w_ace='10', w_df='0', w_svpt='92', w_1stIn='57', w_1stWon='41', w_2ndWon='17', w_SvGms='15', w_bpSaved='4', w_bpFaced='7', l_ace='4', l_df='3', l_svpt='77', l_1stIn='41', l_1stWon='29', l_2ndWon='15', l_SvGms='14', l_bpSaved='4', l_bpFaced='9', winner_rank='4', winner_rank_points='7380', loser_rank='91', loser_rank_points='598')]"
      ]
     },
     "execution_count": 17,
     "metadata": {},
     "output_type": "execute_result"
    }
   ],
   "source": [
    "data.take(1)"
   ]
  },
  {
   "cell_type": "code",
   "execution_count": 87,
   "metadata": {},
   "outputs": [
    {
     "name": "stdout",
     "output_type": "stream",
     "text": [
      "Number of columns: 49\n"
     ]
    }
   ],
   "source": [
    "# CHange this to full dataset later\n",
    "print(\"Number of columns:\", len(data.columns))"
   ]
  },
  {
   "cell_type": "code",
   "execution_count": 104,
   "metadata": {},
   "outputs": [
    {
     "data": {
      "text/plain": [
       "2676"
      ]
     },
     "execution_count": 104,
     "metadata": {},
     "output_type": "execute_result"
    }
   ],
   "source": [
    "# Make a column called numNull then filter out if over 6\n",
    "data = data.withColumn(\"numNull\", sum(data[col].isNull().cast('int') for col in data.columns))\n",
    "\n",
    "data = data.filter(data.numNull < 6)\n",
    "data.count()"
   ]
  },
  {
   "cell_type": "code",
   "execution_count": 105,
   "metadata": {},
   "outputs": [
    {
     "name": "stdout",
     "output_type": "stream",
     "text": [
      "+----------+------------+-------+---------+-------------+------------+---------+---------+-----------+------------+-------------------+-----------+---------+----------+-------------+--------+----------+-----------+-------------------+----------+--------+---------+-------------+-----------------+-------+-----+-------+-----+----+------+-------+--------+--------+-------+---------+---------+-----+----+------+-------+--------+--------+-------+---------+---------+-----------+------------------+----------+-----------------+-------+\n",
      "|tourney_id|tourney_name|surface|draw_size|tourney_level|tourney_date|match_num|winner_id|winner_seed|winner_entry|        winner_name|winner_hand|winner_ht|winner_ioc|   winner_age|loser_id|loser_seed|loser_entry|         loser_name|loser_hand|loser_ht|loser_ioc|    loser_age|            score|best_of|round|minutes|w_ace|w_df|w_svpt|w_1stIn|w_1stWon|w_2ndWon|w_SvGms|w_bpSaved|w_bpFaced|l_ace|l_df|l_svpt|l_1stIn|l_1stWon|l_2ndWon|l_SvGms|l_bpSaved|l_bpFaced|winner_rank|winner_rank_points|loser_rank|loser_rank_points|numNull|\n",
      "+----------+------------+-------+---------+-------------+------------+---------+---------+-----------+------------+-------------------+-----------+---------+----------+-------------+--------+----------+-----------+-------------------+----------+--------+---------+-------------+-----------------+-------+-----+-------+-----+----+------+-------+--------+--------+-------+---------+---------+-----+----+------+-------+--------+--------+-------+---------+---------+-----------+------------------+----------+-----------------+-------+\n",
      "|  2012-339|    Brisbane|   Hard|       32|            A|    20120101|        1|   104918|          1|        null|        Andy Murray|          R|      190|       GBR|24.6351813826|  105062|      null|       null|  Mikhail Kukushkin|         R|     183|      KAZ|24.0191649555|      5-7 6-3 6-2|      3|  R32|    130|   10|   0|    92|     57|      41|      17|     15|        4|        7|    4|   3|    77|     41|      29|      15|     14|        4|        9|          4|              7380|        91|              598|      3|\n",
      "|  2012-339|    Brisbane|   Hard|       32|            A|    20120101|        2|   104180|       null|        null|      Gilles Muller|          L|      193|       LUX|28.6516084873|  103672|      null|       null|      Ricardo Mello|         L|     175|      BRA|31.0308008214|6-7(3) 7-6(4) 6-3|      3|  R32|    136|   23|   1|   104|     55|      47|      31|     17|        3|        3|    3|   5|   103|     67|      54|      20|     16|        1|        2|         54|               893|        85|              630|      4|\n",
      "|  2012-339|    Brisbane|   Hard|       32|            A|    20120101|        3|   104571|       null|        null|   Marcos Baghdatis|          R|      183|       CYP|26.5434633812|  105992|      null|       null|      Ryan Harrison|         R|     183|      USA|19.6550308008|       7-6(7) 6-4|      3|  R32|    101|    8|   3|    71|     31|      26|      26|     11|        5|        6|   14|   1|    79|     48|      36|      17|     11|        2|        4|         44|               940|        79|              658|      4|\n",
      "|  2012-339|    Brisbane|   Hard|       32|            A|    20120101|        4|   105453|          5|        null|      Kei Nishikori|          R|      178|       JPN|22.0095824778|  105649|      null|       null|Cedrik Marcel Stebe|         L|     183|      GER|21.2320328542|      3-6 6-1 6-4|      3|  R32|    130|    1|   2|    75|     49|      31|      16|     13|        3|        6|    4|   2|    90|     49|      27|      23|     13|        9|       14|         25|              1430|        81|              652|      3|\n",
      "|  2012-339|    Brisbane|   Hard|       32|            A|    20120101|        5|   104797|       null|        null|      Denis Istomin|          R|      188|       UZB|25.3196440794|  104252|         4|       null|      Florian Mayer|         R|     190|      GER|28.2436687201|   7-6(5) 2-3 RET|      3|  R32|     69|   10|   1|    56|     28|      23|      18|      8|        2|        2|    2|   1|    55|     38|      28|      11|      9|        0|        0|         73|               685|        23|             1630|      3|\n",
      "|  2012-339|    Brisbane|   Hard|       32|            A|    20120101|        6|   103163|       null|        null|         Tommy Haas|          R|      188|       GER| 33.749486653|  104594|      null|         WC|  Marinko Matosevic|         R|     194|      AUS|26.4010951403|          6-3 7-5|      3|  R32|     99|    4|   2|    66|     40|      32|      14|     11|        6|        7|    4|   2|    77|     45|      28|      15|     10|       10|       13|        205|               237|       203|              240|      3|\n",
      "|  2012-339|    Brisbane|   Hard|       32|            A|    20120101|        7|   105147|       null|           Q|        Tatsuma Ito|          R|      180|       JPN|23.6249144422|  106093|      null|         WC|  Benjamin Mitchell|         R|    null|      AUS|19.0882956879|          6-4 6-2|      3|  R32|     70|    6|   0|    52|     30|      24|      15|      9|        2|        2|   11|   6|    68|     44|      30|       7|      9|        8|       11|        122|               474|       227|              214|      3|\n",
      "|  2012-339|    Brisbane|   Hard|       32|            A|    20120101|        8|   106071|          8|        null|      Bernard Tomic|          R|      193|       AUS|19.1978097194|  103898|      null|       null|   Julien Benneteau|         R|     185|      FRA|30.0342231348|      6-2 4-6 7-5|      3|  R32|    147|    7|   2|    92|     53|      36|      23|     15|        4|        7|   14|  12|   121|     71|      48|      19|     15|       16|       21|         42|               970|        52|              900|      3|\n",
      "|  2012-339|    Brisbane|   Hard|       32|            A|    20120101|        9|   103285|          6|        null|     Radek Stepanek|          R|      185|       CZE|33.0978781656|  105051|      null|       null|      Matthew Ebden|         R|     188|      AUS|24.1013004791|      6-4 3-6 6-3|      3|  R32|    132|    8|   4|    91|     51|      38|      22|     14|        3|        4|    5|   3|    99|     64|      43|      19|     14|       10|       12|         28|              1275|        86|              627|      3|\n",
      "|  2012-339|    Brisbane|   Hard|       32|            A|    20120101|       10|   103813|       null|        null|    Jarkko Nieminen|          L|      185|       FIN|30.4449007529|  105028|      null|          Q|       Jesse Levine|         L|     175|      CAN|24.2162902122|       7-6(4) 6-2|      3|  R32|    101|    3|   0|    71|     53|      32|      10|     10|        6|        9|    3|   6|    90|     63|      36|      10|     10|        9|       14|         77|               666|       164|              308|      3|\n",
      "|  2012-339|    Brisbane|   Hard|       32|            A|    20120101|       11|   104214|       null|           Q|       Igor Andreev|          R|      185|       RUS|28.4709103354|  105173|      null|       null|   Adrian Mannarino|         L|     183|      FRA|23.5099247091|       7-6(6) 6-2|      3|  R32|     86|    7|   3|    70|     41|      33|      16|     10|        2|        3|    3|   3|    60|     35|      24|      13|     10|        3|        6|        115|               494|        87|              623|      3|\n",
      "|  2012-339|    Brisbane|   Hard|       32|            A|    20120101|       12|   105238|          3|        null|Alexandr Dolgopolov|          R|      180|       UKR| 23.151266256|  104268|      null|       null|    Alejandro Falla|         L|     185|      COL|28.1341546886|       7-6(3) 6-2|      3|  R32|     81|    5|   0|    75|     37|      26|      16|     10|        4|        7|    0|   3|    58|     33|      16|      12|     10|        4|        9|         15|              1925|        74|              671|      3|\n",
      "|  2012-339|    Brisbane|   Hard|       32|            A|    20120101|       13|   104332|       null|        null| Philipp Petzschner|          R|      185|       GER|27.7754962355|  103781|         7|       null|      Jurgen Melzer|         L|     183|      AUT|30.6146475017|          6-1 7-5|      3|  R32|     66|    8|   1|    61|     37|      31|      13|     10|        2|        2|    5|   2|    54|     34|      21|       9|      9|        0|        3|         63|               780|        33|             1170|      3|\n",
      "|  2012-339|    Brisbane|   Hard|       32|            A|    20120101|       14|   105053|       null|        null|   Santiago Giraldo|          R|      188|       COL|24.0985626283|  105357|      null|          Q|       John Millman|         R|     183|      AUS|22.5516769336|          6-3 6-3|      3|  R32|     60|    5|   0|    54|     36|      30|       9|      9|        2|        2|    4|   1|    46|     28|      18|       9|      9|        1|        4|         55|               890|       541|               51|      3|\n",
      "|  2012-339|    Brisbane|   Hard|       32|            A|    20120101|       15|   105902|       null|          WC|    James Duckworth|          R|      183|       AUS| 19.947980835|  103917|      null|       null|      Nicolas Mahut|         R|     190|      FRA|29.9466119097|          6-4 6-4|      3|  R32|     71|    5|   1|    52|     31|      25|      12|     10|        1|        3|    5|   5|    52|     32|      21|       9|     10|        3|        7|        275|               171|        80|              653|      3|\n",
      "|  2012-339|    Brisbane|   Hard|       32|            A|    20120101|       16|   104468|          2|        null|       Gilles Simon|          R|      183|       FRA|27.0143737166|  104976|      null|       null|      Ryan Sweeting|         R|     196|      USA|24.4709103354|          6-3 6-4|      3|  R32|     83|    3|   1|    63|     43|      32|      10|     10|        1|        2|    2|   4|    60|     31|      23|      10|      9|        5|        8|         12|              2165|        72|              690|      3|\n",
      "|  2012-339|    Brisbane|   Hard|       32|            A|    20120101|       17|   104918|          1|        null|        Andy Murray|          R|      190|       GBR|24.6351813826|  104180|      null|       null|      Gilles Muller|         L|     193|      LUX|28.6516084873|   4-6 7-6(4) 6-0|      3|  R16|    120|    9|   5|    82|     49|      44|      12|     14|        2|        4|   10|   1|    92|     56|      39|      17|     14|        2|        6|          4|              7380|        54|              893|      3|\n",
      "|  2012-339|    Brisbane|   Hard|       32|            A|    20120101|       18|   104571|       null|        null|   Marcos Baghdatis|          R|      183|       CYP|26.5434633812|  105453|         5|       null|      Kei Nishikori|         R|     178|      JPN|22.0095824778|          6-3 6-4|      3|  R16|     79|   10|   2|    63|     33|      26|      13|     10|        3|        5|    0|   0|    50|     30|      16|       9|      9|        3|        7|         44|               940|        25|             1430|      3|\n",
      "|  2012-339|    Brisbane|   Hard|       32|            A|    20120101|       20|   106071|          8|        null|      Bernard Tomic|          R|      193|       AUS|19.1978097194|  105147|      null|          Q|        Tatsuma Ito|         R|     180|      JPN|23.6249144422|          6-1 6-2|      3|  R16|     44|   10|   1|    45|     30|      24|       7|      8|        0|        1|    1|   2|    39|     23|      11|       5|      7|        1|        6|         42|               970|       122|              474|      2|\n",
      "|  2012-339|    Brisbane|   Hard|       32|            A|    20120101|       21|   103285|          6|        null|     Radek Stepanek|          R|      185|       CZE|33.0978781656|  103813|      null|       null|    Jarkko Nieminen|         L|     185|      FIN|30.4449007529|       7-6(3) 6-2|      3|  R16|     89|    3|   0|    63|     39|      26|      15|     10|        3|        5|    3|   1|    66|     39|      22|      14|     10|        0|        4|         28|              1275|        77|              666|      3|\n",
      "+----------+------------+-------+---------+-------------+------------+---------+---------+-----------+------------+-------------------+-----------+---------+----------+-------------+--------+----------+-----------+-------------------+----------+--------+---------+-------------+-----------------+-------+-----+-------+-----+----+------+-------+--------+--------+-------+---------+---------+-----+----+------+-------+--------+--------+-------+---------+---------+-----------+------------------+----------+-----------------+-------+\n",
      "only showing top 20 rows\n",
      "\n"
     ]
    }
   ],
   "source": [
    "data.show()"
   ]
  },
  {
   "cell_type": "code",
   "execution_count": 106,
   "metadata": {},
   "outputs": [
    {
     "data": {
      "text/plain": [
       "['w_ace',\n",
       " 'w_df',\n",
       " 'w_svpt',\n",
       " 'w_1stIn',\n",
       " 'w_1stWon',\n",
       " 'w_2ndWon',\n",
       " 'w_SvGms',\n",
       " 'w_bpSaved',\n",
       " 'w_bpFaced']"
      ]
     },
     "execution_count": 106,
     "metadata": {},
     "output_type": "execute_result"
    }
   ],
   "source": [
    "\n",
    "winners = [col for col in data.columns if col.startswith('w_')]\n",
    "winners\n"
   ]
  },
  {
   "cell_type": "code",
   "execution_count": 107,
   "metadata": {},
   "outputs": [
    {
     "data": {
      "text/plain": [
       "['l_ace',\n",
       " 'l_df',\n",
       " 'l_svpt',\n",
       " 'l_1stIn',\n",
       " 'l_1stWon',\n",
       " 'l_2ndWon',\n",
       " 'l_SvGms',\n",
       " 'l_bpSaved',\n",
       " 'l_bpFaced']"
      ]
     },
     "execution_count": 107,
     "metadata": {},
     "output_type": "execute_result"
    }
   ],
   "source": [
    "losers = [col for col in data.columns if col.startswith('l_')]\n",
    "losers"
   ]
  },
  {
   "cell_type": "code",
   "execution_count": 108,
   "metadata": {},
   "outputs": [],
   "source": [
    "\n",
    "final_df = data.select(winners)\n",
    "new_columns = [col.strip('w_') for col in winners]\n",
    "\n",
    "for i in range(0, len(final_df.columns)):\n",
    "    final_df = final_df.withColumnRenamed(final_df.columns[i], new_columns[i])\n"
   ]
  },
  {
   "cell_type": "code",
   "execution_count": 109,
   "metadata": {},
   "outputs": [
    {
     "name": "stdout",
     "output_type": "stream",
     "text": [
      "+---+---+----+-----+------+------+-----+-------+-------+------+\n",
      "|ace| df|svpt|1stIn|1stWon|2ndWon|SvGms|bpSaved|bpFaced|result|\n",
      "+---+---+----+-----+------+------+-----+-------+-------+------+\n",
      "| 10|  0|  92|   57|    41|    17|   15|      4|      7|     1|\n",
      "| 23|  1| 104|   55|    47|    31|   17|      3|      3|     1|\n",
      "|  8|  3|  71|   31|    26|    26|   11|      5|      6|     1|\n",
      "|  1|  2|  75|   49|    31|    16|   13|      3|      6|     1|\n",
      "| 10|  1|  56|   28|    23|    18|    8|      2|      2|     1|\n",
      "+---+---+----+-----+------+------+-----+-------+-------+------+\n",
      "only showing top 5 rows\n",
      "\n"
     ]
    }
   ],
   "source": [
    "from pyspark.sql.functions import lit\n",
    "\n",
    "final_df = final_df.withColumn('result', lit(1))\n",
    "final_df.show(5)"
   ]
  },
  {
   "cell_type": "code",
   "execution_count": 110,
   "metadata": {},
   "outputs": [
    {
     "name": "stdout",
     "output_type": "stream",
     "text": [
      "+---+---+----+-----+------+------+-----+-------+-------+------+\n",
      "|ace| df|svpt|1stIn|1stWon|2ndWon|SvGms|bpSaved|bpFaced|result|\n",
      "+---+---+----+-----+------+------+-----+-------+-------+------+\n",
      "|  4|  3|  77|   41|    29|    15|   14|      4|      9|     0|\n",
      "|  3|  5| 103|   67|    54|    20|   16|      1|      2|     0|\n",
      "| 14|  1|  79|   48|    36|    17|   11|      2|      4|     0|\n",
      "|  4|  2|  90|   49|    27|    23|   13|      9|     14|     0|\n",
      "|  2|  1|  55|   38|    28|    11|    9|      0|      0|     0|\n",
      "+---+---+----+-----+------+------+-----+-------+-------+------+\n",
      "only showing top 5 rows\n",
      "\n"
     ]
    }
   ],
   "source": [
    "final_df2 = data.select(losers)\n",
    "\n",
    "for i in range(0, len(final_df2.columns)):\n",
    "    final_df2 = final_df2.withColumnRenamed(final_df2.columns[i], new_columns[i])\n",
    "    \n",
    "final_df2 = final_df2.withColumn('result', lit(0))\n",
    "final_df2.show(5)\n"
   ]
  },
  {
   "cell_type": "code",
   "execution_count": 111,
   "metadata": {},
   "outputs": [
    {
     "name": "stdout",
     "output_type": "stream",
     "text": [
      "+---+---+----+-----+------+------+-----+-------+-------+------+\n",
      "|ace| df|svpt|1stIn|1stWon|2ndWon|SvGms|bpSaved|bpFaced|result|\n",
      "+---+---+----+-----+------+------+-----+-------+-------+------+\n",
      "| 10|  0|  92|   57|    41|    17|   15|      4|      7|     1|\n",
      "| 23|  1| 104|   55|    47|    31|   17|      3|      3|     1|\n",
      "|  8|  3|  71|   31|    26|    26|   11|      5|      6|     1|\n",
      "|  1|  2|  75|   49|    31|    16|   13|      3|      6|     1|\n",
      "| 10|  1|  56|   28|    23|    18|    8|      2|      2|     1|\n",
      "+---+---+----+-----+------+------+-----+-------+-------+------+\n",
      "only showing top 5 rows\n",
      "\n"
     ]
    }
   ],
   "source": [
    "final = final_df.union(final_df2)\n",
    "\n",
    "final.show(5)"
   ]
  },
  {
   "cell_type": "markdown",
   "metadata": {},
   "source": [
    "### Number of records"
   ]
  },
  {
   "cell_type": "code",
   "execution_count": 112,
   "metadata": {},
   "outputs": [
    {
     "name": "stdout",
     "output_type": "stream",
     "text": [
      "Number of records:  5352\n"
     ]
    }
   ],
   "source": [
    "print('Number of records: ', final.count())"
   ]
  },
  {
   "cell_type": "markdown",
   "metadata": {},
   "source": [
    "### Number of columns"
   ]
  },
  {
   "cell_type": "code",
   "execution_count": 113,
   "metadata": {},
   "outputs": [
    {
     "name": "stdout",
     "output_type": "stream",
     "text": [
      "Number of columns:  10\n"
     ]
    }
   ],
   "source": [
    "print('Number of columns: ', len(final.columns))"
   ]
  },
  {
   "cell_type": "markdown",
   "metadata": {},
   "source": [
    "### Statistical summary of response variable"
   ]
  },
  {
   "cell_type": "code",
   "execution_count": 114,
   "metadata": {},
   "outputs": [
    {
     "name": "stdout",
     "output_type": "stream",
     "text": [
      "1    2676\n",
      "0    2676\n",
      "Name: result, dtype: int64\n"
     ]
    },
    {
     "data": {
      "text/html": [
       "<div>\n",
       "<style scoped>\n",
       "    .dataframe tbody tr th:only-of-type {\n",
       "        vertical-align: middle;\n",
       "    }\n",
       "\n",
       "    .dataframe tbody tr th {\n",
       "        vertical-align: top;\n",
       "    }\n",
       "\n",
       "    .dataframe thead th {\n",
       "        text-align: right;\n",
       "    }\n",
       "</style>\n",
       "<table border=\"1\" class=\"dataframe\">\n",
       "  <thead>\n",
       "    <tr style=\"text-align: right;\">\n",
       "      <th></th>\n",
       "      <th>result</th>\n",
       "    </tr>\n",
       "  </thead>\n",
       "  <tbody>\n",
       "    <tr>\n",
       "      <th>count</th>\n",
       "      <td>5352.000000</td>\n",
       "    </tr>\n",
       "    <tr>\n",
       "      <th>mean</th>\n",
       "      <td>0.500000</td>\n",
       "    </tr>\n",
       "    <tr>\n",
       "      <th>std</th>\n",
       "      <td>0.500047</td>\n",
       "    </tr>\n",
       "    <tr>\n",
       "      <th>min</th>\n",
       "      <td>0.000000</td>\n",
       "    </tr>\n",
       "    <tr>\n",
       "      <th>25%</th>\n",
       "      <td>0.000000</td>\n",
       "    </tr>\n",
       "    <tr>\n",
       "      <th>50%</th>\n",
       "      <td>0.500000</td>\n",
       "    </tr>\n",
       "    <tr>\n",
       "      <th>75%</th>\n",
       "      <td>1.000000</td>\n",
       "    </tr>\n",
       "    <tr>\n",
       "      <th>max</th>\n",
       "      <td>1.000000</td>\n",
       "    </tr>\n",
       "  </tbody>\n",
       "</table>\n",
       "</div>"
      ],
      "text/plain": [
       "            result\n",
       "count  5352.000000\n",
       "mean      0.500000\n",
       "std       0.500047\n",
       "min       0.000000\n",
       "25%       0.000000\n",
       "50%       0.500000\n",
       "75%       1.000000\n",
       "max       1.000000"
      ]
     },
     "execution_count": 114,
     "metadata": {},
     "output_type": "execute_result"
    }
   ],
   "source": [
    "print(final.toPandas().result.value_counts())\n",
    "\n",
    "final.toPandas().describe()\n",
    "\n",
    "# This is a binary response variable, so the only thing that really matters is value counts"
   ]
  },
  {
   "cell_type": "code",
   "execution_count": 115,
   "metadata": {},
   "outputs": [],
   "source": [
    "# final.groupBy('result').count().orderBy('result')"
   ]
  },
  {
   "cell_type": "markdown",
   "metadata": {},
   "source": [
    "### Statistical summary of potential predictor variables (if there are a large number of predictors, select the top 10)\n"
   ]
  },
  {
   "cell_type": "code",
   "execution_count": 118,
   "metadata": {},
   "outputs": [
    {
     "data": {
      "text/html": [
       "<div>\n",
       "<style scoped>\n",
       "    .dataframe tbody tr th:only-of-type {\n",
       "        vertical-align: middle;\n",
       "    }\n",
       "\n",
       "    .dataframe tbody tr th {\n",
       "        vertical-align: top;\n",
       "    }\n",
       "\n",
       "    .dataframe thead th {\n",
       "        text-align: right;\n",
       "    }\n",
       "</style>\n",
       "<table border=\"1\" class=\"dataframe\">\n",
       "  <thead>\n",
       "    <tr style=\"text-align: right;\">\n",
       "      <th></th>\n",
       "      <th>ace</th>\n",
       "      <th>df</th>\n",
       "      <th>svpt</th>\n",
       "      <th>1stIn</th>\n",
       "      <th>1stWon</th>\n",
       "      <th>2ndWon</th>\n",
       "      <th>SvGms</th>\n",
       "      <th>bpSaved</th>\n",
       "      <th>bpFaced</th>\n",
       "      <th>result</th>\n",
       "    </tr>\n",
       "  </thead>\n",
       "  <tbody>\n",
       "    <tr>\n",
       "      <th>0</th>\n",
       "      <td>10</td>\n",
       "      <td>0</td>\n",
       "      <td>92</td>\n",
       "      <td>57</td>\n",
       "      <td>41</td>\n",
       "      <td>17</td>\n",
       "      <td>15</td>\n",
       "      <td>4</td>\n",
       "      <td>7</td>\n",
       "      <td>1</td>\n",
       "    </tr>\n",
       "    <tr>\n",
       "      <th>1</th>\n",
       "      <td>23</td>\n",
       "      <td>1</td>\n",
       "      <td>104</td>\n",
       "      <td>55</td>\n",
       "      <td>47</td>\n",
       "      <td>31</td>\n",
       "      <td>17</td>\n",
       "      <td>3</td>\n",
       "      <td>3</td>\n",
       "      <td>1</td>\n",
       "    </tr>\n",
       "    <tr>\n",
       "      <th>2</th>\n",
       "      <td>8</td>\n",
       "      <td>3</td>\n",
       "      <td>71</td>\n",
       "      <td>31</td>\n",
       "      <td>26</td>\n",
       "      <td>26</td>\n",
       "      <td>11</td>\n",
       "      <td>5</td>\n",
       "      <td>6</td>\n",
       "      <td>1</td>\n",
       "    </tr>\n",
       "    <tr>\n",
       "      <th>3</th>\n",
       "      <td>1</td>\n",
       "      <td>2</td>\n",
       "      <td>75</td>\n",
       "      <td>49</td>\n",
       "      <td>31</td>\n",
       "      <td>16</td>\n",
       "      <td>13</td>\n",
       "      <td>3</td>\n",
       "      <td>6</td>\n",
       "      <td>1</td>\n",
       "    </tr>\n",
       "    <tr>\n",
       "      <th>4</th>\n",
       "      <td>10</td>\n",
       "      <td>1</td>\n",
       "      <td>56</td>\n",
       "      <td>28</td>\n",
       "      <td>23</td>\n",
       "      <td>18</td>\n",
       "      <td>8</td>\n",
       "      <td>2</td>\n",
       "      <td>2</td>\n",
       "      <td>1</td>\n",
       "    </tr>\n",
       "    <tr>\n",
       "      <th>...</th>\n",
       "      <td>...</td>\n",
       "      <td>...</td>\n",
       "      <td>...</td>\n",
       "      <td>...</td>\n",
       "      <td>...</td>\n",
       "      <td>...</td>\n",
       "      <td>...</td>\n",
       "      <td>...</td>\n",
       "      <td>...</td>\n",
       "      <td>...</td>\n",
       "    </tr>\n",
       "    <tr>\n",
       "      <th>5347</th>\n",
       "      <td>12</td>\n",
       "      <td>1</td>\n",
       "      <td>88</td>\n",
       "      <td>55</td>\n",
       "      <td>43</td>\n",
       "      <td>20</td>\n",
       "      <td>15</td>\n",
       "      <td>0</td>\n",
       "      <td>1</td>\n",
       "      <td>0</td>\n",
       "    </tr>\n",
       "    <tr>\n",
       "      <th>5348</th>\n",
       "      <td>6</td>\n",
       "      <td>5</td>\n",
       "      <td>83</td>\n",
       "      <td>42</td>\n",
       "      <td>28</td>\n",
       "      <td>12</td>\n",
       "      <td>13</td>\n",
       "      <td>3</td>\n",
       "      <td>10</td>\n",
       "      <td>0</td>\n",
       "    </tr>\n",
       "    <tr>\n",
       "      <th>5349</th>\n",
       "      <td>5</td>\n",
       "      <td>2</td>\n",
       "      <td>79</td>\n",
       "      <td>48</td>\n",
       "      <td>32</td>\n",
       "      <td>15</td>\n",
       "      <td>13</td>\n",
       "      <td>6</td>\n",
       "      <td>10</td>\n",
       "      <td>0</td>\n",
       "    </tr>\n",
       "    <tr>\n",
       "      <th>5350</th>\n",
       "      <td>5</td>\n",
       "      <td>1</td>\n",
       "      <td>66</td>\n",
       "      <td>31</td>\n",
       "      <td>25</td>\n",
       "      <td>15</td>\n",
       "      <td>10</td>\n",
       "      <td>0</td>\n",
       "      <td>3</td>\n",
       "      <td>0</td>\n",
       "    </tr>\n",
       "    <tr>\n",
       "      <th>5351</th>\n",
       "      <td>8</td>\n",
       "      <td>2</td>\n",
       "      <td>93</td>\n",
       "      <td>57</td>\n",
       "      <td>35</td>\n",
       "      <td>19</td>\n",
       "      <td>12</td>\n",
       "      <td>3</td>\n",
       "      <td>7</td>\n",
       "      <td>0</td>\n",
       "    </tr>\n",
       "  </tbody>\n",
       "</table>\n",
       "<p>5352 rows × 10 columns</p>\n",
       "</div>"
      ],
      "text/plain": [
       "     ace df svpt 1stIn 1stWon 2ndWon SvGms bpSaved bpFaced  result\n",
       "0     10  0   92    57     41     17    15       4       7       1\n",
       "1     23  1  104    55     47     31    17       3       3       1\n",
       "2      8  3   71    31     26     26    11       5       6       1\n",
       "3      1  2   75    49     31     16    13       3       6       1\n",
       "4     10  1   56    28     23     18     8       2       2       1\n",
       "...   .. ..  ...   ...    ...    ...   ...     ...     ...     ...\n",
       "5347  12  1   88    55     43     20    15       0       1       0\n",
       "5348   6  5   83    42     28     12    13       3      10       0\n",
       "5349   5  2   79    48     32     15    13       6      10       0\n",
       "5350   5  1   66    31     25     15    10       0       3       0\n",
       "5351   8  2   93    57     35     19    12       3       7       0\n",
       "\n",
       "[5352 rows x 10 columns]"
      ]
     },
     "execution_count": 118,
     "metadata": {},
     "output_type": "execute_result"
    }
   ],
   "source": [
    "final.toPandas()"
   ]
  },
  {
   "cell_type": "code",
   "execution_count": 117,
   "metadata": {},
   "outputs": [
    {
     "data": {
      "text/html": [
       "<div>\n",
       "<style scoped>\n",
       "    .dataframe tbody tr th:only-of-type {\n",
       "        vertical-align: middle;\n",
       "    }\n",
       "\n",
       "    .dataframe tbody tr th {\n",
       "        vertical-align: top;\n",
       "    }\n",
       "\n",
       "    .dataframe thead th {\n",
       "        text-align: right;\n",
       "    }\n",
       "</style>\n",
       "<table border=\"1\" class=\"dataframe\">\n",
       "  <thead>\n",
       "    <tr style=\"text-align: right;\">\n",
       "      <th></th>\n",
       "      <th>result</th>\n",
       "    </tr>\n",
       "  </thead>\n",
       "  <tbody>\n",
       "    <tr>\n",
       "      <th>count</th>\n",
       "      <td>5352.000000</td>\n",
       "    </tr>\n",
       "    <tr>\n",
       "      <th>mean</th>\n",
       "      <td>0.500000</td>\n",
       "    </tr>\n",
       "    <tr>\n",
       "      <th>std</th>\n",
       "      <td>0.500047</td>\n",
       "    </tr>\n",
       "    <tr>\n",
       "      <th>min</th>\n",
       "      <td>0.000000</td>\n",
       "    </tr>\n",
       "    <tr>\n",
       "      <th>25%</th>\n",
       "      <td>0.000000</td>\n",
       "    </tr>\n",
       "    <tr>\n",
       "      <th>50%</th>\n",
       "      <td>0.500000</td>\n",
       "    </tr>\n",
       "    <tr>\n",
       "      <th>75%</th>\n",
       "      <td>1.000000</td>\n",
       "    </tr>\n",
       "    <tr>\n",
       "      <th>max</th>\n",
       "      <td>1.000000</td>\n",
       "    </tr>\n",
       "  </tbody>\n",
       "</table>\n",
       "</div>"
      ],
      "text/plain": [
       "            result\n",
       "count  5352.000000\n",
       "mean      0.500000\n",
       "std       0.500047\n",
       "min       0.000000\n",
       "25%       0.000000\n",
       "50%       0.500000\n",
       "75%       1.000000\n",
       "max       1.000000"
      ]
     },
     "execution_count": 117,
     "metadata": {},
     "output_type": "execute_result"
    }
   ],
   "source": [
    "final.toPandas().describe()"
   ]
  },
  {
   "cell_type": "code",
   "execution_count": null,
   "metadata": {},
   "outputs": [],
   "source": []
  },
  {
   "cell_type": "code",
   "execution_count": null,
   "metadata": {},
   "outputs": [],
   "source": []
  }
 ],
 "metadata": {
  "kernelspec": {
   "display_name": "DS 5110 Spark 3.1",
   "language": "python",
   "name": "ds5110_spark3.1"
  },
  "language_info": {
   "codemirror_mode": {
    "name": "ipython",
    "version": 3
   },
   "file_extension": ".py",
   "mimetype": "text/x-python",
   "name": "python",
   "nbconvert_exporter": "python",
   "pygments_lexer": "ipython3",
   "version": "3.7.10"
  }
 },
 "nbformat": 4,
 "nbformat_minor": 4
}
