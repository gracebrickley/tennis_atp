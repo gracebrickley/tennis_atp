{
 "cells": [
  {
   "cell_type": "code",
   "execution_count": 1,
   "metadata": {},
   "outputs": [],
   "source": [
    "from pyspark.sql import SparkSession\n",
    "\n",
    "spark = SparkSession \\\n",
    "    .builder \\\n",
    "    .master(\"local\") \\\n",
    "    .appName(\"review_and_category_analytics\") \\\n",
    "    .config(\"spark.executor.memory\", '8g') \\\n",
    "    .config('spark.executor.cores', '4') \\\n",
    "    .config('spark.cores.max', '4') \\\n",
    "    .config(\"spark.driver.memory\",'8g') \\\n",
    "    .getOrCreate()\n",
    "\n",
    "sc = spark.sparkContext"
   ]
  },
  {
   "cell_type": "code",
   "execution_count": 15,
   "metadata": {},
   "outputs": [],
   "source": [
    "data = spark.read.csv('/project/ds5559/group14_tennis/tennis_atp/atp_matches_1968.csv')\n",
    "data_path = '/project/ds5559/group14_tennis/tennis_atp/'"
   ]
  },
  {
   "cell_type": "code",
   "execution_count": 26,
   "metadata": {},
   "outputs": [
    {
     "data": {
      "text/plain": [
       "\"for dataset in dataframes_list:\\n    dataset.show(5)\\n    print('\\n')\\n\""
      ]
     },
     "execution_count": 26,
     "metadata": {},
     "output_type": "execute_result"
    }
   ],
   "source": [
    "import os\n",
    "\n",
    "# assign path\n",
    "path, dirs, files = next(os.walk(data_path))\n",
    "file_count = len(files)\n",
    "# create empty list\n",
    "dataframes_list = []\n",
    " \n",
    "# append datasets to the list\n",
    "for i in range(file_count):\n",
    "    if '.csv' in files[i]:\n",
    "        temp_df =  spark.read.csv(data_path+files[i])\n",
    "        dataframes_list.append(temp_df)\n",
    "     \n",
    "# display datasets\n",
    "'''for dataset in dataframes_list:\n",
    "    dataset.show(5)\n",
    "    print('\\n')\n",
    "'''"
   ]
  },
  {
   "cell_type": "code",
   "execution_count": 27,
   "metadata": {},
   "outputs": [
    {
     "name": "stdout",
     "output_type": "stream",
     "text": [
      "+----------+--------------+-------+---------+-------------+------------+---------+----------+----------+-----------+------------+---------+---------+----------+-----------+-------------+-------+-----+-------------------+------------+----------+-----------+-------------+----------------+------------+----------+-----------+-------------+----------------+-----------+---------+----------+-------------+--------------+-----------+---------+----------+-------------+------------+-------------------+------------+-------------------+-----------+------------------+-----------+------------------+-------+-----+----+------+-------+--------+--------+-------+---------+---------+-----+----+------+-------+--------+--------+-------+---------+---------+\n",
      "|       _c0|           _c1|    _c2|      _c3|          _c4|         _c5|      _c6|       _c7|       _c8|        _c9|        _c10|     _c11|     _c12|      _c13|       _c14|         _c15|   _c16| _c17|               _c18|        _c19|      _c20|       _c21|         _c22|            _c23|        _c24|      _c25|       _c26|         _c27|            _c28|       _c29|     _c30|      _c31|         _c32|          _c33|       _c34|     _c35|      _c36|         _c37|        _c38|               _c39|        _c40|               _c41|       _c42|              _c43|       _c44|              _c45|   _c46| _c47|_c48|  _c49|   _c50|    _c51|    _c52|   _c53|     _c54|     _c55| _c56|_c57|  _c58|   _c59|    _c60|    _c61|   _c62|     _c63|     _c64|\n",
      "+----------+--------------+-------+---------+-------------+------------+---------+----------+----------+-----------+------------+---------+---------+----------+-----------+-------------+-------+-----+-------------------+------------+----------+-----------+-------------+----------------+------------+----------+-----------+-------------+----------------+-----------+---------+----------+-------------+--------------+-----------+---------+----------+-------------+------------+-------------------+------------+-------------------+-----------+------------------+-----------+------------------+-------+-----+----+------+-------+--------+--------+-------+---------+---------+-----+----+------+-------+--------+--------+-------+---------+---------+\n",
      "|tourney_id|  tourney_name|surface|draw_size|tourney_level|tourney_date|match_num|winner1_id|winner2_id|winner_seed|winner_entry|loser1_id|loser2_id|loser_seed|loser_entry|        score|best_of|round|       winner1_name|winner1_hand|winner1_ht|winner1_ioc|  winner1_age|    winner2_name|winner2_hand|winner2_ht|winner2_ioc|  winner2_age|     loser1_name|loser1_hand|loser1_ht|loser1_ioc|   loser1_age|   loser2_name|loser2_hand|loser2_ht|loser2_ioc|   loser2_age|winner1_rank|winner1_rank_points|winner2_rank|winner2_rank_points|loser1_rank|loser1_rank_points|loser2_rank|loser2_rank_points|minutes|w_ace|w_df|w_svpt|w_1stIn|w_1stWon|w_2ndWon|w_SvGms|w_bpSaved|w_bpFaced|l_ace|l_df|l_svpt|l_1stIn|l_1stWon|l_2ndWon|l_SvGms|l_bpSaved|l_bpFaced|\n",
      "| 2012-1536|Madrid Masters|   Clay|       56|            M|    20120506|      300|    103586|    103690|          4|        null|   102963|   104486|         6|       null|      6-3 6-4|      3|    F|Mariusz Fyrstenberg|           L|       193|        POL|31.8302532512|Marcin Matkowski|           R|       188|        POL|31.3073237509|Robert Lindstedt|          R|      190|       SWE|35.1348391513|   Horia Tecau|          R|      193|       ROU|27.2963723477|          10|               4815|          10|               4815|          8|              4840|          9|              4840|   null| null|null|  null|   null|    null|    null|   null|     null|     null| null|null|  null|   null|    null|    null|   null|     null|     null|\n",
      "| 2012-1536|Madrid Masters|   Clay|       56|            M|    20120506|      299|    103586|    103690|          4|        null|   103018|   102110|         2|       null|6-7 7-6 12-10|      3|   SF|Mariusz Fyrstenberg|           L|       193|        POL|31.8302532512|Marcin Matkowski|           R|       188|        POL|31.3073237509|      Max Mirnyi|          R|      196|       BLR|34.8364134155| Daniel Nestor|          L|      190|       CAN|39.6714579055|          10|               4815|          10|               4815|          1|              9060|          1|              9060|   null| null|null|  null|   null|    null|    null|   null|     null|     null| null|null|  null|   null|    null|    null|   null|     null|     null|\n",
      "| 2012-1536|Madrid Masters|   Clay|       56|            M|    20120506|      298|    102963|    104486|          6|        null|   102405|   103523|         7|       null| 6-4 1-6 10-7|      3|   SF|   Robert Lindstedt|           R|       190|        SWE|35.1348391513|     Horia Tecau|           R|       193|        ROU|27.2963723477| Mahesh Bhupathi|          R|      185|       IND| 37.916495551| Rohan Bopanna|          R|      190|       IND|32.1752224504|           8|               4840|           9|               4840|         15|              3850|         12|              4340|   null| null|null|  null|   null|    null|    null|   null|     null|     null| null|null|  null|   null|    null|    null|   null|     null|     null|\n",
      "| 2012-1536|Madrid Masters|   Clay|       56|            M|    20120506|      297|    103018|    102110|          2|        null|   102233|   103285|         5|       null| 6-3 6-7 10-2|      3|   QF|         Max Mirnyi|           R|       196|        BLR|34.8364134155|   Daniel Nestor|           L|       190|        CAN|39.6714579055|    Leander Paes|          R|      178|       IND|38.8884325804|Radek Stepanek|          R|      185|       CZE|33.4428473648|           1|               9060|           1|               9060|          7|              6195|         13|              4175|   null| null|null|  null|   null|    null|    null|   null|     null|     null| null|null|  null|   null|    null|    null|   null|     null|     null|\n",
      "+----------+--------------+-------+---------+-------------+------------+---------+----------+----------+-----------+------------+---------+---------+----------+-----------+-------------+-------+-----+-------------------+------------+----------+-----------+-------------+----------------+------------+----------+-----------+-------------+----------------+-----------+---------+----------+-------------+--------------+-----------+---------+----------+-------------+------------+-------------------+------------+-------------------+-----------+------------------+-----------+------------------+-------+-----+----+------+-------+--------+--------+-------+---------+---------+-----+----+------+-------+--------+--------+-------+---------+---------+\n",
      "only showing top 5 rows\n",
      "\n"
     ]
    }
   ],
   "source": [
    "dataframes_list[0].show(5)"
   ]
  },
  {
   "cell_type": "code",
   "execution_count": 1,
   "metadata": {},
   "outputs": [
    {
     "name": "stdout",
     "output_type": "stream",
     "text": [
      "/sfs/qumulo/qhome/kgb3mf\n"
     ]
    }
   ],
   "source": [
    "!pwd"
   ]
  },
  {
   "cell_type": "code",
   "execution_count": null,
   "metadata": {},
   "outputs": [],
   "source": []
  }
 ],
 "metadata": {
  "kernelspec": {
   "display_name": "DS 5110 Spark 3.1",
   "language": "python",
   "name": "ds5110_spark3.1"
  },
  "language_info": {
   "codemirror_mode": {
    "name": "ipython",
    "version": 3
   },
   "file_extension": ".py",
   "mimetype": "text/x-python",
   "name": "python",
   "nbconvert_exporter": "python",
   "pygments_lexer": "ipython3",
   "version": "3.7.10"
  }
 },
 "nbformat": 4,
 "nbformat_minor": 4
}
