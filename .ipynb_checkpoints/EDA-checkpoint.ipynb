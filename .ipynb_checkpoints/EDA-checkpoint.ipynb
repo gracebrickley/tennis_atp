{
 "cells": [
  {
   "cell_type": "code",
   "execution_count": 1,
   "metadata": {},
   "outputs": [],
   "source": [
    "from pyspark.sql import SparkSession\n",
    "\n",
    "spark = SparkSession \\\n",
    "    .builder \\\n",
    "    .master(\"local\") \\\n",
    "    .appName(\"review_and_category_analytics\") \\\n",
    "    .config(\"spark.executor.memory\", '8g') \\\n",
    "    .config('spark.executor.cores', '4') \\\n",
    "    .config('spark.cores.max', '4') \\\n",
    "    .config(\"spark.driver.memory\",'8g') \\\n",
    "    .getOrCreate()\n",
    "\n",
    "sc = spark.sparkContext"
   ]
  },
  {
   "cell_type": "code",
   "execution_count": 11,
   "metadata": {},
   "outputs": [],
   "source": [
    "data = spark.read.csv('/project/ds5559/group14_tennis/tennis_atp/atp_matches_2012.csv', header=True)\n",
    "data_path = '/project/ds5559/group14_tennis/tennis_atp/'"
   ]
  },
  {
   "cell_type": "code",
   "execution_count": 3,
   "metadata": {},
   "outputs": [
    {
     "data": {
      "text/plain": [
       "\"for dataset in dataframes_list:\\n    dataset.show(5)\\n    print('\\n')\\n\""
      ]
     },
     "execution_count": 3,
     "metadata": {},
     "output_type": "execute_result"
    }
   ],
   "source": [
    "import os\n",
    "\n",
    "# assign path\n",
    "path, dirs, files = next(os.walk(data_path))\n",
    "file_count = len(files)\n",
    "# create empty list\n",
    "dataframes_list = []\n",
    " \n",
    "# append datasets to the list\n",
    "for i in range(file_count):\n",
    "    if '.csv' in files[i]:\n",
    "        temp_df =  spark.read.csv(data_path+files[i])\n",
    "        dataframes_list.append(temp_df)\n",
    "     \n",
    "# display datasets\n",
    "'''for dataset in dataframes_list:\n",
    "    dataset.show(5)\n",
    "    print('\\n')\n",
    "'''"
   ]
  },
  {
   "cell_type": "code",
   "execution_count": 4,
   "metadata": {},
   "outputs": [
    {
     "name": "stdout",
     "output_type": "stream",
     "text": [
      "+--------------------+-----------------+-------+---------+-------------+------------+---------+---------+-----------+------------+-------------------+-----------+---------+----------+-------------+--------+----------+-----------+--------------------+----------+--------+---------+-------------+-----------+-------+-----+-------+-----+----+------+-------+--------+--------+-------+---------+---------+-----+----+------+-------+--------+--------+-------+---------+---------+-----------+------------------+----------+-----------------+\n",
      "|                 _c0|              _c1|    _c2|      _c3|          _c4|         _c5|      _c6|      _c7|        _c8|         _c9|               _c10|       _c11|     _c12|      _c13|         _c14|    _c15|      _c16|       _c17|                _c18|      _c19|    _c20|     _c21|         _c22|       _c23|   _c24| _c25|   _c26| _c27|_c28|  _c29|   _c30|    _c31|    _c32|   _c33|     _c34|     _c35| _c36|_c37|  _c38|   _c39|    _c40|    _c41|   _c42|     _c43|     _c44|       _c45|              _c46|      _c47|             _c48|\n",
      "+--------------------+-----------------+-------+---------+-------------+------------+---------+---------+-----------+------------+-------------------+-----------+---------+----------+-------------+--------+----------+-----------+--------------------+----------+--------+---------+-------------+-----------+-------+-----+-------+-----+----+------+-------+--------+--------+-------+---------+---------+-----+----+------+-------+--------+--------+-------+---------+---------+-----------+------------------+----------+-----------------+\n",
      "|          tourney_id|     tourney_name|surface|draw_size|tourney_level|tourney_date|match_num|winner_id|winner_seed|winner_entry|        winner_name|winner_hand|winner_ht|winner_ioc|   winner_age|loser_id|loser_seed|loser_entry|          loser_name|loser_hand|loser_ht|loser_ioc|    loser_age|      score|best_of|round|minutes|w_ace|w_df|w_svpt|w_1stIn|w_1stWon|w_2ndWon|w_SvGms|w_bpSaved|w_bpFaced|l_ace|l_df|l_svpt|l_1stIn|l_1stWon|l_2ndWon|l_SvGms|l_bpSaved|l_bpFaced|winner_rank|winner_rank_points|loser_rank|loser_rank_points|\n",
      "|1993-M-SA-ITA-01A...|Italy 1 Masters 1| Carpet|       32|            S|    19930102|        1|   101280|          1|        null|    Mikael Stadling|          L|      188|       SWE|26.3846680356|  102437|      null|       null|       Adrian Voinea|         R|     185|      ROU|18.3956194387|7-6 5-7 7-5|      3|  R32|   null| null|null|  null|   null|    null|    null|   null|     null|     null| null|null|  null|   null|    null|    null|   null|     null|     null|        360|              null|       332|             null|\n",
      "|1993-M-SA-ITA-01A...|Italy 1 Masters 1| Carpet|       32|            S|    19930102|        2|   101405|       null|        null|      Ugo Colombini|          R|      183|       ITA|25.2265571526|  101871|      null|       null|   Alexander Reichel|         R|     193|      USA|21.8234086242|4-6 6-4 7-6|      3|  R32|   null| null|null|  null|   null|    null|    null|   null|     null|     null| null|null|  null|   null|    null|    null|   null|     null|     null|        947|              null|       591|             null|\n",
      "|1993-M-SA-ITA-01A...|Italy 1 Masters 1| Carpet|       32|            S|    19930102|        3|   102491|       null|           Q|     Alex Radulescu|          R|      185|       GER|18.0588637919|  102008|      null|          Q|         Johan Alven|         R|    null|      SWE|20.9582477755|6-3 2-6 6-4|      3|  R32|   null| null|null|  null|   null|    null|    null|   null|     null|     null| null|null|  null|   null|    null|    null|   null|     null|     null|        464|              null|       708|             null|\n",
      "|1993-M-SA-ITA-01A...|Italy 1 Masters 1| Carpet|       32|            S|    19930102|        4|   101947|       null|          WC|Vincenzo Santopadre|          L|      183|       ITA|21.3826146475|  102050|         8|       null|Marco Meneschincheri|         L|     180|      ITA|20.6762491444|    6-2 6-0|      3|  R32|   null| null|null|  null|   null|    null|    null|   null|     null|     null| null|null|  null|   null|    null|    null|   null|     null|     null|        422|              null|       416|             null|\n",
      "+--------------------+-----------------+-------+---------+-------------+------------+---------+---------+-----------+------------+-------------------+-----------+---------+----------+-------------+--------+----------+-----------+--------------------+----------+--------+---------+-------------+-----------+-------+-----+-------+-----+----+------+-------+--------+--------+-------+---------+---------+-----+----+------+-------+--------+--------+-------+---------+---------+-----------+------------------+----------+-----------------+\n",
      "only showing top 5 rows\n",
      "\n"
     ]
    }
   ],
   "source": [
    "dataframes_list[5].show(5)"
   ]
  },
  {
   "cell_type": "code",
   "execution_count": 5,
   "metadata": {},
   "outputs": [
    {
     "name": "stdout",
     "output_type": "stream",
     "text": [
      "/sfs/qumulo/qhome/jcp2jf/ds5110_project_code/tennis_atp\n"
     ]
    }
   ],
   "source": [
    "!pwd"
   ]
  },
  {
   "cell_type": "code",
   "execution_count": 13,
   "metadata": {},
   "outputs": [
    {
     "data": {
      "text/plain": [
       "['w_ace',\n",
       " 'w_df',\n",
       " 'w_svpt',\n",
       " 'w_1stIn',\n",
       " 'w_1stWon',\n",
       " 'w_2ndWon',\n",
       " 'w_SvGms',\n",
       " 'w_bpSaved',\n",
       " 'w_bpFaced']"
      ]
     },
     "execution_count": 13,
     "metadata": {},
     "output_type": "execute_result"
    }
   ],
   "source": [
    "winners = [col for col in data.columns if col.startswith('w_')]\n",
    "winners"
   ]
  },
  {
   "cell_type": "code",
   "execution_count": 12,
   "metadata": {},
   "outputs": [
    {
     "data": {
      "text/plain": [
       "['tourney_id',\n",
       " 'tourney_name',\n",
       " 'surface',\n",
       " 'draw_size',\n",
       " 'tourney_level',\n",
       " 'tourney_date',\n",
       " 'match_num',\n",
       " 'winner_id',\n",
       " 'winner_seed',\n",
       " 'winner_entry',\n",
       " 'winner_name',\n",
       " 'winner_hand',\n",
       " 'winner_ht',\n",
       " 'winner_ioc',\n",
       " 'winner_age',\n",
       " 'loser_id',\n",
       " 'loser_seed',\n",
       " 'loser_entry',\n",
       " 'loser_name',\n",
       " 'loser_hand',\n",
       " 'loser_ht',\n",
       " 'loser_ioc',\n",
       " 'loser_age',\n",
       " 'score',\n",
       " 'best_of',\n",
       " 'round',\n",
       " 'minutes',\n",
       " 'w_ace',\n",
       " 'w_df',\n",
       " 'w_svpt',\n",
       " 'w_1stIn',\n",
       " 'w_1stWon',\n",
       " 'w_2ndWon',\n",
       " 'w_SvGms',\n",
       " 'w_bpSaved',\n",
       " 'w_bpFaced',\n",
       " 'l_ace',\n",
       " 'l_df',\n",
       " 'l_svpt',\n",
       " 'l_1stIn',\n",
       " 'l_1stWon',\n",
       " 'l_2ndWon',\n",
       " 'l_SvGms',\n",
       " 'l_bpSaved',\n",
       " 'l_bpFaced',\n",
       " 'winner_rank',\n",
       " 'winner_rank_points',\n",
       " 'loser_rank',\n",
       " 'loser_rank_points']"
      ]
     },
     "execution_count": 12,
     "metadata": {},
     "output_type": "execute_result"
    }
   ],
   "source": [
    "data.columns"
   ]
  },
  {
   "cell_type": "code",
   "execution_count": null,
   "metadata": {},
   "outputs": [],
   "source": []
  }
 ],
 "metadata": {
  "kernelspec": {
   "display_name": "DS 5110 Spark 3.1",
   "language": "python",
   "name": "ds5110_spark3.1"
  },
  "language_info": {
   "codemirror_mode": {
    "name": "ipython",
    "version": 3
   },
   "file_extension": ".py",
   "mimetype": "text/x-python",
   "name": "python",
   "nbconvert_exporter": "python",
   "pygments_lexer": "ipython3",
   "version": "3.7.10"
  }
 },
 "nbformat": 4,
 "nbformat_minor": 4
}
